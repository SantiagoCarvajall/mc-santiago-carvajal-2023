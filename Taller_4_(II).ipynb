{
  "nbformat": 4,
  "nbformat_minor": 0,
  "metadata": {
    "colab": {
      "provenance": []
    },
    "kernelspec": {
      "name": "python3",
      "display_name": "Python 3"
    },
    "language_info": {
      "name": "python"
    }
  },
  "cells": [
    {
      "cell_type": "code",
      "execution_count": null,
      "metadata": {
        "id": "EmL2b3GFT6cz"
      },
      "outputs": [],
      "source": [
        "\n",
        "4.\n",
        "\n",
        "Para seleccionar el presidente, vicepresidente, secretario y tesorero de un grupo de 12 personas, se pueden elegir a cualquiera de los 12 para el primer puesto, a cualquiera de los 11 restantes para el segundo puesto, a cualquiera de los 10 restantes para el tercer puesto y a cualquiera de los 9 restantes para el cuarto puesto. Por lo tanto, hay 12×11×10×9=11880 maneras de seleccionar los cuatro puestos.\n",
        "\n",
        "5.\n",
        "\n",
        "a)\n",
        "\n",
        "Hay 9! = 362880 maneras de ubicar los 9 libros en la vitrina.\n",
        "\n",
        "b)\n",
        "\n",
        "Si todos los libros en latín deben estar uno al lado del otro, se pueden considerar como un solo libro. Por lo tanto, hay 7! = 5040 maneras de ubicar los libros en la vitrina.\n",
        "\n",
        "c)\n",
        "\n",
        "Si desea alternar los libros (latín, griego, latín, griego, etc.), hay 4! = 24 maneras de ordenar los libros en latín y 5! = 120 maneras de ordenar los libros en griego. Por lo tanto, hay 4!×5!= 2880 maneras de ubicar los libros en la vitrina.\n",
        "\n"
      ]
    }
  ]
}