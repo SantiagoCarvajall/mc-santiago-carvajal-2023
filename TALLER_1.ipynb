{
  "nbformat": 4,
  "nbformat_minor": 0,
  "metadata": {
    "colab": {
      "provenance": []
    },
    "kernelspec": {
      "name": "python3",
      "display_name": "Python 3"
    },
    "language_info": {
      "name": "python"
    }
  },
  "cells": [
    {
      "cell_type": "code",
      "execution_count": 32,
      "metadata": {
        "colab": {
          "base_uri": "https://localhost:8080/"
        },
        "id": "d4deX_tjZW8Z",
        "outputId": "aaec6949-61be-4233-f5c9-43c47cebed0e"
      },
      "outputs": [
        {
          "output_type": "stream",
          "name": "stdout",
          "text": [
            "Ingrese el primer conjunto de números decimales: 1,3,5\n",
            "Ingrese el segundo conjunto de números decimales: 1,2,3,4\n",
            "A = {1, 3, 5}\n",
            "B = {1, 2, 3, 4}\n",
            "¿Qué operación desea realizar?: \n",
            "1. Unión\n",
            "2. Intersección\n",
            "3. Diferencia\n",
            "4. Diferencia simétrica\n",
            "valor: 2\n",
            "El conjunto resultante es: {1, 3}\n",
            "La cardinalidad del conjunto resultante es: 2\n"
          ]
        }
      ],
      "source": [
        "\n",
        "\n",
        "primerconjunto1 = input(\"Ingrese el primer conjunto de números decimales: \")\n",
        "segundconjunto1 = input(\"Ingrese el segundo conjunto de números decimales: \")\n",
        "\n",
        "primerconjunto1 = set(primerconjunto1.split(\",\"))\n",
        "segundconjunto1 = set(segundconjunto1.split(\",\"))\n",
        "\n",
        "primerconjunto = set()\n",
        "for elemento in primerconjunto1:\n",
        "  primerconjunto.add(int(elemento))\n",
        "\n",
        "segundconjunto = set()\n",
        "for elemento in segundconjunto1:\n",
        "  segundconjunto.add(int(elemento))\n",
        "\n",
        "print('A =', primerconjunto)\n",
        "print('B =', segundconjunto)\n",
        "\n",
        "print(\"¿Qué operación desea realizar?: \")\n",
        "print(\"1. Unión\")\n",
        "print(\"2. Intersección\")\n",
        "print(\"3. Diferencia\")\n",
        "print(\"4. Diferencia simétrica\")\n",
        "operacion = int(input(\"valor: \"))\n",
        "\n",
        "if operacion == 1:\n",
        "  conjunto_resultante = primerconjunto | segundconjunto\n",
        "elif operacion == 2:\n",
        "  conjunto_resultante = primerconjunto & segundconjunto\n",
        "elif operacion == 3:\n",
        "  conjunto_resultante = primerconjunto - segundconjunto\n",
        "else:\n",
        "  conjunto_resultante = primerconjunto ^ segundconjunto\n",
        "\n",
        "print(\"El conjunto resultante es:\", conjunto_resultante)\n",
        "print(\"La cardinalidad del conjunto resultante es:\", len(conjunto_resultante))\n"
      ]
    }
  ]
}