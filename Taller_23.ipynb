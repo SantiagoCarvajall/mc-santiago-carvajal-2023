{
  "nbformat": 4,
  "nbformat_minor": 0,
  "metadata": {
    "colab": {
      "provenance": []
    },
    "kernelspec": {
      "name": "python3",
      "display_name": "Python 3"
    },
    "language_info": {
      "name": "python"
    }
  },
  "cells": [
    {
      "cell_type": "code",
      "execution_count": 10,
      "metadata": {
        "colab": {
          "base_uri": "https://localhost:8080/"
        },
        "id": "hIwOdxAVPm88",
        "outputId": "eac11249-8cb0-45a3-f435-1154d3788071"
      },
      "outputs": [
        {
          "output_type": "stream",
          "name": "stdout",
          "text": [
            "El polinomio de interpolación de Lagrange es:      4       3     2\n",
            "0.1 x - 0.2 x - 1 x + 1 x + 1\n"
          ]
        }
      ],
      "source": [
        "import numpy as np\n",
        "from scipy.interpolate import lagrange\n",
        "\n",
        "\n",
        "x = np.array([0, 1, 2, 3, 4])\n",
        "y = np.array([1, 0.9, -1, -2.3, 1.8])\n",
        "\n",
        "\n",
        "polinomio = lagrange(x, y)\n",
        "\n",
        "\n",
        "print(f\"El polinomio de interpolación de Lagrange es: {polinomio}\")\n"
      ]
    }
  ]
}