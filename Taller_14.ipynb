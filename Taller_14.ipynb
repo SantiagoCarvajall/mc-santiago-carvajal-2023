{
  "nbformat": 4,
  "nbformat_minor": 0,
  "metadata": {
    "colab": {
      "provenance": []
    },
    "kernelspec": {
      "name": "python3",
      "display_name": "Python 3"
    },
    "language_info": {
      "name": "python"
    }
  },
  "cells": [
    {
      "cell_type": "markdown",
      "source": [
        "**1.**"
      ],
      "metadata": {
        "id": "JcqHD7oaq90h"
      }
    },
    {
      "cell_type": "code",
      "execution_count": 15,
      "metadata": {
        "colab": {
          "base_uri": "https://localhost:8080/"
        },
        "id": "Ztpuhxqin1uC",
        "outputId": "a706709e-a507-45cc-dd68-0bc8b08683cf"
      },
      "outputs": [
        {
          "output_type": "stream",
          "name": "stdout",
          "text": [
            "La solución es:  [  19.5 -112.5   42. ]\n"
          ]
        }
      ],
      "source": [
        "import numpy as np\n",
        "\n",
        "A = np.array([[1, 1, 0], [3, 3, 4], [4, 0, 1]], float)\n",
        "b = np.array([5, 23, 30], float)\n",
        "n = len(b)\n",
        "\n",
        "for k in range(n):\n",
        "\n",
        "    maxindex = abs(A[k:,k]).argmax() + k\n",
        "    if A[maxindex, k] == 0:\n",
        "        raise ValueError(\"La matriz es singular.\")\n",
        "\n",
        "    if maxindex != k:\n",
        "        A[[k,maxindex]] = A[[maxindex, k]]\n",
        "        b[[k,maxindex]] = b[[maxindex, k]]\n",
        "    A[k] /= A[k, k]\n",
        "    b[k] /= A[k, k]\n",
        "    for i in range(n):\n",
        "        if i == k or A[i, k] == 0:\n",
        "            continue\n",
        "        factor = A[i, k]\n",
        "        A[i] -= factor * A[k]\n",
        "        b[i] -= factor * b[k]\n",
        "\n",
        "\n",
        "print('La solución es: ', b)"
      ]
    }
  ]
}