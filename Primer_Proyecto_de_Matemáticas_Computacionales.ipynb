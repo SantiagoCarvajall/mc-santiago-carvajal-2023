{
  "nbformat": 4,
  "nbformat_minor": 0,
  "metadata": {
    "colab": {
      "provenance": []
    },
    "kernelspec": {
      "name": "python3",
      "display_name": "Python 3"
    },
    "language_info": {
      "name": "python"
    }
  },
  "cells": [
    {
      "cell_type": "code",
      "execution_count": null,
      "metadata": {
        "colab": {
          "base_uri": "https://localhost:8080/"
        },
        "id": "Ztpuhxqin1uC",
        "outputId": "7156053a-387a-47a5-9ad1-c766b73d2dff"
      },
      "outputs": [
        {
          "output_type": "stream",
          "name": "stdout",
          "text": [
            "Escribe una operación: sen(1)\n",
            "Resultado:  0.8414709848078937\n"
          ]
        }
      ],
      "source": [
        "import math\n",
        "\n",
        "def factorial(n):\n",
        "    if n == 0:\n",
        "        return 1\n",
        "    else:\n",
        "        return n * factorial(n-1)\n",
        "\n",
        "def maclaurin_sin(x):\n",
        "    sum = 0\n",
        "    for n in range(8):\n",
        "        term = ((-1)**n * x**(2*n + 1)) / factorial(2*n + 1)\n",
        "        sum += term\n",
        "    return sum\n",
        "\n",
        "def maclaurin_cos(x):\n",
        "    sum = 0\n",
        "    for n in range(8):\n",
        "        term = ((-1)**n * x**(2*n)) / factorial(2*n)\n",
        "        sum += term\n",
        "    return sum\n",
        "\n",
        "def maclaurin_tan(x):\n",
        "    return maclaurin_sin(x) / maclaurin_cos(x)\n",
        "\n",
        "def maclaurin_cot(x):\n",
        "    return 1 / maclaurin_tan(x)\n",
        "\n",
        "def maclaurin_sec(x):\n",
        "    return 1 / maclaurin_cos(x)\n",
        "\n",
        "def maclaurin_csc(x):\n",
        "    return 1 / maclaurin_sin(x)\n",
        "\n",
        "while True:\n",
        "    operation = input(\"Escribe una operación: \")\n",
        "    function, value = operation.split(\"(\")\n",
        "    value = float(value[:-1])\n",
        "\n",
        "    if function == \"sen\":\n",
        "        result = maclaurin_sin(value)\n",
        "    elif function == \"cos\":\n",
        "        result = maclaurin_cos(value)\n",
        "    elif function == \"tan\":\n",
        "        result = maclaurin_tan(value)\n",
        "    elif function == \"cot\":\n",
        "        result = maclaurin_cot(value)\n",
        "    elif function == \"sec\":\n",
        "        result = maclaurin_sec(value)\n",
        "    elif function == \"csc\":\n",
        "        result = maclaurin_csc(value)\n",
        "\n",
        "    print(\"Resultado: \", result)"
      ]
    }
  ]
}