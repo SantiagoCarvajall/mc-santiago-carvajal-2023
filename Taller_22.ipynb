{
  "nbformat": 4,
  "nbformat_minor": 0,
  "metadata": {
    "colab": {
      "provenance": []
    },
    "kernelspec": {
      "name": "python3",
      "display_name": "Python 3"
    },
    "language_info": {
      "name": "python"
    }
  },
  "cells": [
    {
      "cell_type": "code",
      "execution_count": 9,
      "metadata": {
        "colab": {
          "base_uri": "https://localhost:8080/"
        },
        "id": "hIwOdxAVPm88",
        "outputId": "0a19d257-e3ea-415f-df42-560475a11cb6"
      },
      "outputs": [
        {
          "output_type": "stream",
          "name": "stdout",
          "text": [
            "Polinomio de grado 1:  \n",
            "-0.8 x + 1\n",
            "Polinomio de grado 2:      2\n",
            "1.3 x - 2.1 x + 1\n",
            "Estimación de f(2.5) para el grado 1: -1.0\n",
            "Estimación de f(2.5) para el grado 2: 3.875\n",
            "Estimación de f(2.5) para el grado 3: 3.187500000000001\n"
          ]
        }
      ],
      "source": [
        "import numpy as np\n",
        "from scipy.interpolate import lagrange\n",
        "\n",
        "\n",
        "x = np.array([0, 1, 2, 3, 4])\n",
        "y = np.array([1, 0.2, 2, 4.2, 5])\n",
        "\n",
        "\n",
        "polinomio_grado_1 = lagrange(x[:2], y[:2])\n",
        "polinomio_grado_2 = lagrange(x[:3], y[:3])\n",
        "polinomio_grado_3 = lagrange(x[:4], y[:4])\n",
        "\n",
        "\n",
        "estimacion_grado_1 = polinomio_grado_1(2.5)\n",
        "estimacion_grado_2 = polinomio_grado_2(2.5)\n",
        "estimacion_grado_3 = polinomio_grado_3(2.5)\n",
        "\n",
        "\n",
        "print(f\"Polinomio de grado 1: {polinomio_grado_1}\")\n",
        "print(f\"Polinomio de grado 2: {polinomio_grado_2}\")\n",
        "\n",
        "\n",
        "print(f\"Estimación de f(2.5) para el grado 1: {estimacion_grado_1}\")\n",
        "print(f\"Estimación de f(2.5) para el grado 2: {estimacion_grado_2}\")\n",
        "print(f\"Estimación de f(2.5) para el grado 3: {estimacion_grado_3}\")"
      ]
    }
  ]
}