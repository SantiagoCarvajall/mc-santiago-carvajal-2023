{
  "nbformat": 4,
  "nbformat_minor": 0,
  "metadata": {
    "colab": {
      "provenance": []
    },
    "kernelspec": {
      "name": "python3",
      "display_name": "Python 3"
    },
    "language_info": {
      "name": "python"
    }
  },
  "cells": [
    {
      "cell_type": "code",
      "execution_count": null,
      "metadata": {
        "id": "hIwOdxAVPm88"
      },
      "outputs": [],
      "source": [
        "from BTrees.OOBTree import OOBTree\n",
        "\n",
        "\n",
        "A = [21,14,2,11,7,20,13,30,18,5,6,29,12,27,4,28,10,15,22,1,19,3]\n",
        "\n",
        "\n",
        "btree = OOBTree()\n",
        "for a in A:\n",
        "    btree.update({a: None})\n",
        "\n",
        "print(\"Árbol B+:\", btree)"
      ]
    }
  ]
}