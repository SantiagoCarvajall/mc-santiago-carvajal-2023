{
  "nbformat": 4,
  "nbformat_minor": 0,
  "metadata": {
    "colab": {
      "provenance": []
    },
    "kernelspec": {
      "name": "python3",
      "display_name": "Python 3"
    },
    "language_info": {
      "name": "python"
    }
  },
  "cells": [
    {
      "cell_type": "code",
      "execution_count": null,
      "metadata": {
        "colab": {
          "base_uri": "https://localhost:8080/"
        },
        "id": "Cdq5bPZsfziw",
        "outputId": "267646b0-f4d6-4ee8-9eb4-fde5af13b1c7"
      },
      "outputs": [
        {
          "name": "stdout",
          "output_type": "stream",
          "text": [
            "Ingrese un valor en radianes: 0.5\n",
            "Ingrese el criterio de error esperado: 1e-10\n"
          ]
        }
      ],
      "source": [
        "import math\n",
        "\n",
        "def cos(x, es, n):\n",
        "  \"\"\"\n",
        "  Calcula el coseno de un número x con una aproximación de Taylor de grado n.\n",
        "\n",
        "  Args:\n",
        "    x: El número a calcular.\n",
        "    es: El criterio de error esperado.\n",
        "    n: El grado de la aproximación.\n",
        "\n",
        "  Returns:\n",
        "    El valor estimado del coseno de x, el error aproximado relativo porcentual y el número de iteraciones realizadas.\n",
        "  \"\"\"\n",
        "\n",
        "  aprox = 1\n",
        "  err = math.fabs(aprox - math.cos(x))\n",
        "  n_iter = 0\n",
        "\n",
        "  while err > es:\n",
        "    aprox += (-x**(2*n) / math.factorial(2*n))\n",
        "    err = math.fabs(aprox - math.cos(x))\n",
        "    n_iter += 1\n",
        "\n",
        "  return aprox, err / math.fabs(aprox) * 100, n_iter\n",
        "\n",
        "\n",
        "def main():\n",
        "  x = float(input(\"Ingrese un valor en radianes: \"))\n",
        "  es = float(input(\"Ingrese el criterio de error esperado: \"))\n",
        "\n",
        "  aprox, err, n_iter = cos(x, es, 0)\n",
        "\n",
        "  print(\"El valor estimado del coseno de {} es {}.\".format(x, aprox))\n",
        "  print(\"El error aproximado relativo porcentual es {}.\".format(err))\n",
        "  print(\"El número de iteraciones realizadas es {}.\".format(n_iter))\n",
        "\n",
        "\n",
        "if __name__ == \"__main__\":\n",
        "  main()"
      ]
    }
  ]
}