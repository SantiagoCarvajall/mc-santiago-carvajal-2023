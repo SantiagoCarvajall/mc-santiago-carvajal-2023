{
  "nbformat": 4,
  "nbformat_minor": 0,
  "metadata": {
    "colab": {
      "provenance": []
    },
    "kernelspec": {
      "name": "python3",
      "display_name": "Python 3"
    },
    "language_info": {
      "name": "python"
    }
  },
  "cells": [
    {
      "cell_type": "code",
      "execution_count": 1,
      "metadata": {
        "colab": {
          "base_uri": "https://localhost:8080/",
          "height": 355
        },
        "id": "d1CdCdxRgnE6",
        "outputId": "99210b22-1850-46af-bc5e-060cbfa6d2a7"
      },
      "outputs": [
        {
          "output_type": "error",
          "ename": "KeyboardInterrupt",
          "evalue": "ignored",
          "traceback": [
            "\u001b[0;31m---------------------------------------------------------------------------\u001b[0m",
            "\u001b[0;31mKeyboardInterrupt\u001b[0m                         Traceback (most recent call last)",
            "\u001b[0;32m<ipython-input-1-c65968bf0a63>\u001b[0m in \u001b[0;36m<cell line: 46>\u001b[0;34m()\u001b[0m\n\u001b[1;32m     45\u001b[0m \u001b[0;34m\u001b[0m\u001b[0m\n\u001b[1;32m     46\u001b[0m \u001b[0;32mif\u001b[0m \u001b[0m__name__\u001b[0m \u001b[0;34m==\u001b[0m \u001b[0;34m\"__main__\"\u001b[0m\u001b[0;34m:\u001b[0m\u001b[0;34m\u001b[0m\u001b[0;34m\u001b[0m\u001b[0m\n\u001b[0;32m---> 47\u001b[0;31m   \u001b[0mmain\u001b[0m\u001b[0;34m(\u001b[0m\u001b[0;34m)\u001b[0m\u001b[0;34m\u001b[0m\u001b[0;34m\u001b[0m\u001b[0m\n\u001b[0m",
            "\u001b[0;32m<ipython-input-1-c65968bf0a63>\u001b[0m in \u001b[0;36mmain\u001b[0;34m()\u001b[0m\n\u001b[1;32m     32\u001b[0m   \u001b[0mes\u001b[0m \u001b[0;34m=\u001b[0m \u001b[0;36m1e-8\u001b[0m\u001b[0;34m\u001b[0m\u001b[0;34m\u001b[0m\u001b[0m\n\u001b[1;32m     33\u001b[0m \u001b[0;34m\u001b[0m\u001b[0m\n\u001b[0;32m---> 34\u001b[0;31m   \u001b[0maprox_serie_exp\u001b[0m\u001b[0;34m,\u001b[0m \u001b[0merr_serie_exp\u001b[0m\u001b[0;34m,\u001b[0m \u001b[0mn_iter_serie_exp\u001b[0m \u001b[0;34m=\u001b[0m \u001b[0me_menos_x_serie_exp\u001b[0m\u001b[0;34m(\u001b[0m\u001b[0mx\u001b[0m\u001b[0;34m,\u001b[0m \u001b[0mes\u001b[0m\u001b[0;34m,\u001b[0m \u001b[0;36m0\u001b[0m\u001b[0;34m)\u001b[0m\u001b[0;34m\u001b[0m\u001b[0;34m\u001b[0m\u001b[0m\n\u001b[0m\u001b[1;32m     35\u001b[0m   \u001b[0maprox_serie_reciproca\u001b[0m\u001b[0;34m,\u001b[0m \u001b[0merr_serie_reciproca\u001b[0m\u001b[0;34m,\u001b[0m \u001b[0mn_iter_serie_reciproca\u001b[0m \u001b[0;34m=\u001b[0m \u001b[0me_menos_x_serie_reciproca\u001b[0m\u001b[0;34m(\u001b[0m\u001b[0mx\u001b[0m\u001b[0;34m,\u001b[0m \u001b[0mes\u001b[0m\u001b[0;34m,\u001b[0m \u001b[0;36m0\u001b[0m\u001b[0;34m)\u001b[0m\u001b[0;34m\u001b[0m\u001b[0;34m\u001b[0m\u001b[0m\n\u001b[1;32m     36\u001b[0m \u001b[0;34m\u001b[0m\u001b[0m\n",
            "\u001b[0;32m<ipython-input-1-c65968bf0a63>\u001b[0m in \u001b[0;36me_menos_x_serie_exp\u001b[0;34m(x, es, n)\u001b[0m\n\u001b[1;32m      7\u001b[0m \u001b[0;34m\u001b[0m\u001b[0m\n\u001b[1;32m      8\u001b[0m   \u001b[0;32mwhile\u001b[0m \u001b[0merr\u001b[0m \u001b[0;34m>\u001b[0m \u001b[0mes\u001b[0m\u001b[0;34m:\u001b[0m\u001b[0;34m\u001b[0m\u001b[0;34m\u001b[0m\u001b[0m\n\u001b[0;32m----> 9\u001b[0;31m     \u001b[0maprox\u001b[0m \u001b[0;34m+=\u001b[0m \u001b[0;34m(\u001b[0m\u001b[0;34m-\u001b[0m\u001b[0mx\u001b[0m\u001b[0;34m**\u001b[0m\u001b[0;34m(\u001b[0m\u001b[0;36m2\u001b[0m\u001b[0;34m*\u001b[0m\u001b[0mn\u001b[0m\u001b[0;34m)\u001b[0m \u001b[0;34m/\u001b[0m \u001b[0mmath\u001b[0m\u001b[0;34m.\u001b[0m\u001b[0mfactorial\u001b[0m\u001b[0;34m(\u001b[0m\u001b[0;36m2\u001b[0m\u001b[0;34m*\u001b[0m\u001b[0mn\u001b[0m\u001b[0;34m)\u001b[0m\u001b[0;34m)\u001b[0m\u001b[0;34m\u001b[0m\u001b[0;34m\u001b[0m\u001b[0m\n\u001b[0m\u001b[1;32m     10\u001b[0m     \u001b[0merr\u001b[0m \u001b[0;34m=\u001b[0m \u001b[0mmath\u001b[0m\u001b[0;34m.\u001b[0m\u001b[0mfabs\u001b[0m\u001b[0;34m(\u001b[0m\u001b[0maprox\u001b[0m \u001b[0;34m-\u001b[0m \u001b[0mmath\u001b[0m\u001b[0;34m.\u001b[0m\u001b[0mexp\u001b[0m\u001b[0;34m(\u001b[0m\u001b[0;34m-\u001b[0m\u001b[0mx\u001b[0m\u001b[0;34m)\u001b[0m\u001b[0;34m)\u001b[0m\u001b[0;34m\u001b[0m\u001b[0;34m\u001b[0m\u001b[0m\n\u001b[1;32m     11\u001b[0m     \u001b[0mn_iter\u001b[0m \u001b[0;34m+=\u001b[0m \u001b[0;36m1\u001b[0m\u001b[0;34m\u001b[0m\u001b[0;34m\u001b[0m\u001b[0m\n",
            "\u001b[0;31mKeyboardInterrupt\u001b[0m: "
          ]
        }
      ],
      "source": [
        "import math\n",
        "\n",
        "def e_menos_x_serie_exp(x, es, n):\n",
        "  aprox = 1\n",
        "  err = math.fabs(aprox - math.exp(-x))\n",
        "  n_iter = 0\n",
        "\n",
        "  while err > es:\n",
        "    aprox += (-x**(2*n) / math.factorial(2*n))\n",
        "    err = math.fabs(aprox - math.exp(-x))\n",
        "    n_iter += 1\n",
        "\n",
        "  return aprox, err / math.fabs(aprox) * 100, n_iter\n",
        "\n",
        "\n",
        "def e_menos_x_serie_reciproca(x, es, n):\n",
        "\n",
        "  aprox = 1 / (1 + x)\n",
        "  err = math.fabs(aprox - math.exp(-x))\n",
        "  n_iter = 0\n",
        "\n",
        "  while err > es:\n",
        "    aprox += (-x**(2*n) / math.factorial(2*n)) / (1 + x**(2*n))\n",
        "    err = math.fabs(aprox - math.exp(-x))\n",
        "    n_iter += 1\n",
        "\n",
        "  return aprox, err / math.fabs(aprox) * 100, n_iter\n",
        "\n",
        "\n",
        "def main():\n",
        "  x = 0.75\n",
        "  es = 1e-8\n",
        "\n",
        "  aprox_serie_exp, err_serie_exp, n_iter_serie_exp = e_menos_x_serie_exp(x, es, 0)\n",
        "  aprox_serie_reciproca, err_serie_reciproca, n_iter_serie_reciproca = e_menos_x_serie_reciproca(x, es, 0)\n",
        "\n",
        "  print(\"El valor estimado de e^{-0.75} con aproximación por serie exponencial es {}.\".format(aprox_serie_exp))\n",
        "  print(\"El error aproximado relativo porcentual es {}.\".format(err_serie_exp))\n",
        "  print(\"El número de iteraciones realizadas es {}.\".format(n_iter_serie_exp))\n",
        "\n",
        "  print(\"El valor estimado de e^{-0.75} con aproximación por serie recíproca es {}.\".format(aprox_serie_reciproca))\n",
        "  print(\"El error aproximado relativo porcentual es {}.\".format(err_serie_reciproca))\n",
        "  print(\"El número de iteraciones realizadas es {}.\".format(n_iter_serie_reciproca))\n",
        "\n",
        "\n",
        "if __name__ == \"__main__\":\n",
        "  main()"
      ]
    }
  ]
}