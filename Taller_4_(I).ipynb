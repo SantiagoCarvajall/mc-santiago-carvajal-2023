{
  "nbformat": 4,
  "nbformat_minor": 0,
  "metadata": {
    "colab": {
      "provenance": []
    },
    "kernelspec": {
      "name": "python3",
      "display_name": "Python 3"
    },
    "language_info": {
      "name": "python"
    }
  },
  "cells": [
    {
      "cell_type": "code",
      "execution_count": null,
      "metadata": {
        "id": "XW-tcjDqSQ-l"
      },
      "outputs": [],
      "source": [
        "1. a)\n",
        "\n",
        "La fábrica de automóviles Summer tiene 3 opciones para el color, 5 opciones para la línea, 3 opciones para la transmisión y 2 opciones para el cilindraje. Por lo tanto, puede fabricar 3×5×3×2=90 tipos diferentes de vehículos.\n",
        "\n",
        "1. b)\n",
        "\n",
        "Si ahora se ofrecen en 10 colores, la fábrica de automóviles Summer puede fabricar 10×5×3×2=300 tipos diferentes de vehículos.\n",
        "\n",
        "2. a)\n",
        "\n",
        "Hay 26 letras en el alfabeto español, sin incluir la Ñ. Por lo tanto, hay 26×26×26=17576 combinaciones posibles para las 3 letras de la placa.\n",
        "\n",
        "2. b)\n",
        "\n",
        "Si no se aceptan repeticiones de letras o números, entonces hay 26×25×24×10×9×8=59374400 combinaciones posibles para las 3 letras y los 3 números de la placa.\n",
        "\n",
        "3.\n",
        "\n",
        "Las cadenas de 16 bits que comienzan y terminan con números 00 tienen 14 bits en medio. Cada bit puede tener dos valores, 0 o 1. Por lo tanto, hay 2^14 = 16384 cadenas de 16 bits que comienzan y terminan con números 00\n"
      ]
    }
  ]
}