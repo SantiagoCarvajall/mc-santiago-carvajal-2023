{
  "nbformat": 4,
  "nbformat_minor": 0,
  "metadata": {
    "colab": {
      "provenance": []
    },
    "kernelspec": {
      "name": "python3",
      "display_name": "Python 3"
    },
    "language_info": {
      "name": "python"
    }
  },
  "cells": [
    {
      "cell_type": "code",
      "execution_count": 2,
      "metadata": {
        "colab": {
          "base_uri": "https://localhost:8080/"
        },
        "id": "Ztpuhxqin1uC",
        "outputId": "3ba7708f-de46-410a-eb19-6876486dc725"
      },
      "outputs": [
        {
          "output_type": "stream",
          "name": "stdout",
          "text": [
            "Valor verdadero:  0.6035055754270405\n",
            "\n",
            "Orden  0\n",
            "Estimación:  1.0\n",
            "Error aproximado relativo porcentual:  65.69855204608508 %\n",
            "\n",
            "Orden  1\n",
            "Estimación:  0.995\n",
            "Error aproximado relativo porcentual:  64.87005928585465 %\n",
            "\n",
            "Orden  2\n",
            "Estimación:  0.9950125\n",
            "Error aproximado relativo porcentual:  64.87213051775522 %\n",
            "\n",
            "Orden  3\n",
            "Estimación:  0.9950124791666667\n",
            "Error aproximado relativo porcentual:  64.87212706570207 %\n",
            "\n",
            "Orden  4\n",
            "Estimación:  0.9950124791927083\n",
            "Error aproximado relativo porcentual:  64.87212707001713 %\n",
            "\n",
            "Orden  5\n",
            "Estimación:  0.9950124791926822\n",
            "Error aproximado relativo porcentual:  64.8721270700128 %\n",
            "\n",
            "Orden  6\n",
            "Estimación:  0.9950124791926822\n",
            "Error aproximado relativo porcentual:  64.8721270700128 %\n",
            "\n",
            "Orden  7\n",
            "Estimación:  0.9950124791926822\n",
            "Error aproximado relativo porcentual:  64.8721270700128 %\n",
            "\n",
            "Orden  8\n",
            "Estimación:  0.9950124791926822\n",
            "Error aproximado relativo porcentual:  64.8721270700128 %\n",
            "\n",
            "Orden  9\n",
            "Estimación:  0.9950124791926822\n",
            "Error aproximado relativo porcentual:  64.8721270700128 %\n",
            "\n",
            "Orden  10\n",
            "Estimación:  0.9950124791926822\n",
            "Error aproximado relativo porcentual:  64.8721270700128 %\n",
            "\n",
            "Orden  11\n",
            "Estimación:  0.9950124791926822\n",
            "Error aproximado relativo porcentual:  64.8721270700128 %\n",
            "\n",
            "Orden  12\n",
            "Estimación:  0.9950124791926822\n",
            "Error aproximado relativo porcentual:  64.8721270700128 %\n",
            "\n",
            "Orden  13\n",
            "Estimación:  0.9950124791926822\n",
            "Error aproximado relativo porcentual:  64.8721270700128 %\n",
            "\n",
            "Orden  14\n",
            "Estimación:  0.9950124791926822\n",
            "Error aproximado relativo porcentual:  64.8721270700128 %\n",
            "\n",
            "Orden  15\n",
            "Estimación:  0.9950124791926822\n",
            "Error aproximado relativo porcentual:  64.8721270700128 %\n"
          ]
        }
      ],
      "source": [
        "import math\n",
        "\n",
        "def factorial(n):\n",
        "    if n == 0:\n",
        "        return 1\n",
        "    else:\n",
        "        return n * factorial(n-1)\n",
        "\n",
        "def taylor_series_e_minus_x(x, n):\n",
        "    sum = 0\n",
        "    for i in range(n+1):\n",
        "        term = ((-1)**i * (x**i)) / factorial(i)\n",
        "        sum += term\n",
        "    return sum\n",
        "\n",
        "x = 0.505\n",
        "base_x = 0.5\n",
        "true_value = math.exp(-x)\n",
        "\n",
        "print(\"Valor verdadero: \", true_value)\n",
        "\n",
        "for i in range(16):\n",
        "    estimate = taylor_series_e_minus_x(x - base_x, i)\n",
        "    relative_error = abs((estimate - true_value) / true_value) * 100\n",
        "    print(\"\\nOrden \", i)\n",
        "    print(\"Estimación: \", estimate)\n",
        "    print(\"Error aproximado relativo porcentual: \", relative_error, \"%\")"
      ]
    }
  ]
}