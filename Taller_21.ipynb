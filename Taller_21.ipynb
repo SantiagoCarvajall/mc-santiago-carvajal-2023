{
  "nbformat": 4,
  "nbformat_minor": 0,
  "metadata": {
    "colab": {
      "provenance": []
    },
    "kernelspec": {
      "name": "python3",
      "display_name": "Python 3"
    },
    "language_info": {
      "name": "python"
    }
  },
  "cells": [
    {
      "cell_type": "code",
      "execution_count": 8,
      "metadata": {
        "colab": {
          "base_uri": "https://localhost:8080/"
        },
        "id": "hIwOdxAVPm88",
        "outputId": "31cdfaed-1d15-4b7e-ae6e-04a278e9c830"
      },
      "outputs": [
        {
          "output_type": "stream",
          "name": "stdout",
          "text": [
            "La función lineal de mejor ajuste es y = -1.2450980392156865*x1 + 0.9235294117647058*x2 + 2.901960784313726\n",
            "Coeficiente de correlación (r): 0.9762132990912783\n"
          ]
        }
      ],
      "source": [
        "import numpy as np\n",
        "from sklearn.linear_model import LinearRegression\n",
        "from scipy.stats import pearsonr\n",
        "\n",
        "\n",
        "x1 = np.array([1, 1, 2, 3, 1, 2, 3, 3])\n",
        "x2 = np.array([0, 1, 1, 2, 2, 3, 3, 1])\n",
        "y = np.array([1.6, 3, 1.1, 1.3, 3.2, 3.3, 1.8, 0])\n",
        "\n",
        "\n",
        "X = np.column_stack((x1, x2))\n",
        "\n",
        "\n",
        "modelo = LinearRegression().fit(X, y)\n",
        "\n",
        "\n",
        "y_ajuste = modelo.predict(X)\n",
        "r = pearsonr(y, y_ajuste)[0]\n",
        "\n",
        "\n",
        "print(f\"La función lineal de mejor ajuste es y = {modelo.coef_[0]}*x1 + {modelo.coef_[1]}*x2 + {modelo.intercept_}\")\n",
        "print(f\"Coeficiente de correlación (r): {r}\")"
      ]
    }
  ]
}