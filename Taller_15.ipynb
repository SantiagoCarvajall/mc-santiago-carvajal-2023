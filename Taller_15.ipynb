{
  "nbformat": 4,
  "nbformat_minor": 0,
  "metadata": {
    "colab": {
      "provenance": []
    },
    "kernelspec": {
      "name": "python3",
      "display_name": "Python 3"
    },
    "language_info": {
      "name": "python"
    }
  },
  "cells": [
    {
      "cell_type": "markdown",
      "source": [
        "**1.**"
      ],
      "metadata": {
        "id": "JcqHD7oaq90h"
      }
    },
    {
      "cell_type": "code",
      "execution_count": 17,
      "metadata": {
        "colab": {
          "base_uri": "https://localhost:8080/"
        },
        "id": "Ztpuhxqin1uC",
        "outputId": "eee7f182-8bb7-4e96-c547-9b0231257513"
      },
      "outputs": [
        {
          "output_type": "stream",
          "name": "stdout",
          "text": [
            "Inversa de la Matriz A:\n",
            "[[ 1.  -2.   4. ]\n",
            " [-1.5  4.  -7.5]\n",
            " [ 0.5 -1.   1.5]]\n",
            "Inversa de la Matriz B:\n",
            "[[ 0.33333333  0.66666667 -0.66666667  0.        ]\n",
            " [-0.06666667 -0.13333333  0.33333333  0.2       ]\n",
            " [ 0.26666667  0.53333333 -1.33333333  0.2       ]\n",
            " [ 0.2        -0.1        -0.         -0.1       ]]\n"
          ]
        }
      ],
      "source": [
        "import numpy as np\n",
        "\n",
        "def gauss_jordan(a):\n",
        "    n = len(a)\n",
        "    for i in range(n):\n",
        "        a[i] = a[i] / a[i,i]\n",
        "        for j in range(i+1,n):\n",
        "            a[j] = a[j] - a[j,i]*a[i]\n",
        "    for i in range(n-1, -1, -1):\n",
        "        for j in range(i-1, -1, -1):\n",
        "            a[j] = a[j] - a[j,i]*a[i]\n",
        "    return a[:,n:]\n",
        "\n",
        "\n",
        "matriz_A = np.array([[3., 2., 2., 1., 0., 0.], [3., 1., -3., 0., 1., 0.], [1., 0., -2., 0., 0., 1.]])\n",
        "matriz_B = np.array([[1., 2., 0., 4., 1., 0., 0., 0.], [2., 0., -1., -2., 0., 1., 0., 0.], [1., 1., -1., 0., 0., 0., 1., 0.], [0., 4., 1., 0., 0., 0., 0., 1.]])\n",
        "\n",
        "\n",
        "inversa_A = gauss_jordan(matriz_A)\n",
        "inversa_B = gauss_jordan(matriz_B)\n",
        "\n",
        "print(\"Inversa de la Matriz A:\")\n",
        "print(inversa_A)\n",
        "\n",
        "print(\"Inversa de la Matriz B:\")\n",
        "print(inversa_B)"
      ]
    }
  ]
}