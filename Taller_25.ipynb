{
  "nbformat": 4,
  "nbformat_minor": 0,
  "metadata": {
    "colab": {
      "provenance": []
    },
    "kernelspec": {
      "name": "python3",
      "display_name": "Python 3"
    },
    "language_info": {
      "name": "python"
    }
  },
  "cells": [
    {
      "cell_type": "code",
      "execution_count": null,
      "metadata": {
        "id": "hIwOdxAVPm88"
      },
      "outputs": [],
      "source": [
        "from blist import sortedset\n",
        "\n",
        "\n",
        "A = [21,14,2,11,7,20,13,30,18,5,6,29,12,27,4,28,10,15,22,1,19,3]\n",
        "\n",
        "\n",
        "class Node:\n",
        "    def __init__(self, key):\n",
        "        self.left = None\n",
        "        self.right = None\n",
        "        self.val = key\n",
        "\n",
        "\n",
        "def insert(root, key):\n",
        "    if root is None:\n",
        "        return Node(key)\n",
        "    else:\n",
        "        if root.val < key:\n",
        "            root.right = insert(root.right, key)\n",
        "        else:\n",
        "            root.left = insert(root.left, key)\n",
        "    return root\n",
        "\n",
        "\n",
        "root = None\n",
        "for a in A:\n",
        "    root = insert(root, a)\n",
        "\n",
        "\n",
        "B = sortedset(A)\n",
        "\n",
        "\n",
        "print(\"Árbol B:\", B)\n"
      ]
    }
  ]
}