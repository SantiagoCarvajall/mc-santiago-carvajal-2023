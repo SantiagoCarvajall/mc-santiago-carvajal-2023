{
  "nbformat": 4,
  "nbformat_minor": 0,
  "metadata": {
    "colab": {
      "provenance": []
    },
    "kernelspec": {
      "name": "python3",
      "display_name": "Python 3"
    },
    "language_info": {
      "name": "python"
    }
  },
  "cells": [
    {
      "cell_type": "code",
      "execution_count": null,
      "metadata": {
        "id": "vuGoR7aXiJRx"
      },
      "outputs": [],
      "source": [
        "1. Conversión a base 16\n",
        "\n",
        "a) 611 = 10110011\n",
        "b) 48 = 30\n",
        "c) 5000 = 10000\n",
        "d) 6199 = 1001000111\n",
        "\n",
        "2. Conversión a base 10\n",
        "\n",
        "a) 500 = 5 * 8^2 + 0 * 8^1 + 0 * 8^0 = 320\n",
        "b) 485 = 4 * 8^2 + 8 * 8^1 + 5 * 8^0 = 320 + 64 + 5 = 389\n",
        "c) 5445 = 5 * 8^4 + 4 * 8^3 + 4 * 8^2 + 5 * 8^1 = 32768 + 2560 + 1024 + 40 = 36332\n",
        "d) 277 = 2 * 8^2 + 7 * 8^0 = 128 + 56 = 184\n",
        "\n",
        "3.\n",
        "a) 75.202,53 + 0,009997 = 75.212,527\n",
        "b) 533,075 - 38.611,007 = -38.077,932\n",
        "c) 0,38654 * 0,00012097 = 0,00004687377\n",
        "d) 37,86093 / 0,000103862 = 36.456,982"
      ]
    }
  ]
}