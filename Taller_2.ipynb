{
  "nbformat": 4,
  "nbformat_minor": 0,
  "metadata": {
    "colab": {
      "provenance": []
    },
    "kernelspec": {
      "name": "python3",
      "display_name": "Python 3"
    },
    "language_info": {
      "name": "python"
    }
  },
  "cells": [
    {
      "cell_type": "code",
      "execution_count": 1,
      "metadata": {
        "colab": {
          "base_uri": "https://localhost:8080/"
        },
        "id": "zuANJFWpfdW2",
        "outputId": "7ff9fb2a-ef1a-4c29-f46f-e62a425e52bf"
      },
      "outputs": [
        {
          "output_type": "stream",
          "name": "stdout",
          "text": [
            "A ∩ (B ⨁ D) =  {3, 5, 9, 15, 23}\n",
            "(B ∩ C) ∪ D =  {2, 3, 5, 7, 8, 11, 12, 13, 16, 17, 18, 19, 23, 29, 31, 37, 41, 43, 47}\n",
            "(A ∪ C) - B =  {1, 3, 4, 5, 21, 23, 25}\n",
            "(B - C) ⨁ (A ∩ C) =  {1, 6, 7, 9, 10, 11, 13, 14, 15, 17, 19, 21}\n"
          ]
        }
      ],
      "source": [
        "def union(A, B):\n",
        "  return set(A) | set(B)\n",
        "\n",
        "def intersection(A, B):\n",
        "  return set(A) & set(B)\n",
        "\n",
        "def difference(A, B):\n",
        "  return set(A) - set(B)\n",
        "\n",
        "def symmetric_difference(A, B):\n",
        "  return set(A) ^ set(B)\n",
        "\n",
        "def is_prime(x):\n",
        "  if x <= 1:\n",
        "    return False\n",
        "  for i in range(2, x):\n",
        "    if x % i == 0:\n",
        "      return False\n",
        "  return True\n",
        "\n",
        "def main():\n",
        "  A = {x for x in range(1, 26) if x % 2 == 1}\n",
        "  B = {x for x in range(6, 20)}\n",
        "  C = {1, 4, 7, 8, 12, 16, 18, 21}\n",
        "  D = {x for x in range(2, 51) if is_prime(x)}\n",
        "\n",
        "  print(\"A ∩ (B ⨁ D) = \", intersection(A, symmetric_difference(B, D)))\n",
        "  print(\"(B ∩ C) ∪ D = \", union(intersection(B, C), D))\n",
        "  print(\"(A ∪ C) - B = \", difference(union(A, C), B))\n",
        "  print(\"(B - C) ⨁ (A ∩ C) = \", symmetric_difference(B - C, intersection(A, C)))\n",
        "\n",
        "if __name__ == \"__main__\":\n",
        "  main()\n"
      ]
    }
  ]
}