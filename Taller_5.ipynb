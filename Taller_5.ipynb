{
  "nbformat": 4,
  "nbformat_minor": 0,
  "metadata": {
    "colab": {
      "provenance": []
    },
    "kernelspec": {
      "name": "python3",
      "display_name": "Python 3"
    },
    "language_info": {
      "name": "python"
    }
  },
  "cells": [
    {
      "cell_type": "code",
      "execution_count": null,
      "metadata": {
        "id": "58J9lIu7V8_m"
      },
      "outputs": [],
      "source": [
        "1.\n",
        "\n",
        "a. Hay 15120 maneras de seleccionar 8 aplicaciones de entre 18.\n",
        "b. Hay 4550 maneras de seleccionar 3 aplicaciones de redes sociales y 5 aplicaciones de otras denominaciones.\n",
        "\n",
        "2.\n",
        "\n",
        "a. Hay 2598960 manos de póquer (sin ordenar) de cinco cartas, seleccionadas de una baraja común de 52 cartas.\n",
        "b. Hay 455 manos de póquer que contienen cartas todas del mismo palo.\n",
        "c. Hay 22304 manos de póquer que contienen tres cartas de una denominación y dos de una segunda denominación."
      ]
    }
  ]
}