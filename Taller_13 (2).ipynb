{
  "nbformat": 4,
  "nbformat_minor": 0,
  "metadata": {
    "colab": {
      "provenance": []
    },
    "kernelspec": {
      "name": "python3",
      "display_name": "Python 3"
    },
    "language_info": {
      "name": "python"
    }
  },
  "cells": [
    {
      "cell_type": "markdown",
      "source": [
        "**1.**"
      ],
      "metadata": {
        "id": "JcqHD7oaq90h"
      }
    },
    {
      "cell_type": "code",
      "execution_count": 6,
      "metadata": {
        "colab": {
          "base_uri": "https://localhost:8080/"
        },
        "id": "Ztpuhxqin1uC",
        "outputId": "ffbbd870-549f-46d1-b573-44f32cff32a9"
      },
      "outputs": [
        {
          "output_type": "stream",
          "name": "stdout",
          "text": [
            "Introduce la longitud de los vectores: 1\n",
            "Introduce el valor del vector 1 en la posición 1: 2\n",
            "Introduce el valor del vector 2 en la posición 1: 2\n",
            "Vector 1:  [2.]\n",
            "Vector 2:  [2.]\n",
            "Producto escalar:  4.0\n"
          ]
        }
      ],
      "source": [
        "import numpy as np\n",
        "\n",
        "n = int(input(\"Introduce la longitud de los vectores: \"))\n",
        "vector1 = np.array([float(input(\"Introduce el valor del vector 1 en la posición \" + str(i+1) + \": \")) for i in range(n)])\n",
        "vector2 = np.array([float(input(\"Introduce el valor del vector 2 en la posición \" + str(i+1) + \": \")) for i in range(n)])\n",
        "\n",
        "print(\"Vector 1: \", vector1)\n",
        "print(\"Vector 2: \", vector2)\n",
        "\n",
        "dot_product = np.dot(vector1, vector2)\n",
        "print(\"Producto escalar: \", dot_product)"
      ]
    },
    {
      "cell_type": "markdown",
      "source": [
        "**2.**"
      ],
      "metadata": {
        "id": "5uDoqfVJrCkm"
      }
    },
    {
      "cell_type": "code",
      "source": [
        "import numpy as np\n",
        "\n",
        "rows_A = int(input(\"Introduce el número de filas de la matriz A: \"))\n",
        "cols_A = int(input(\"Introduce el número de columnas de la matriz A: \"))\n",
        "A = np.array([[float(input(\"Introduce el valor de la matriz A en la fila \" + str(i+1) + \", columna \" + str(j+1) + \": \")) for j in range(cols_A)] for i in range(rows_A)])\n",
        "\n",
        "rows_B = int(input(\"Introduce el número de filas de la matriz B: \"))\n",
        "cols_B = int(input(\"Introduce el número de columnas de la matriz B: \"))\n",
        "B = np.array([[float(input(\"Introduce el valor de la matriz B en la fila \" + str(i+1) + \", columna \" + str(j+1) + \": \")) for j in range(cols_B)] for i in range(rows_B)])\n",
        "\n",
        "print(\"\\nMatriz A: \")\n",
        "print(A)\n",
        "print(\"\\nMatriz B: \")\n",
        "print(B)\n",
        "\n",
        "if A.shape == B.shape:\n",
        "    print(\"\\n3A: \")\n",
        "    print(3*A)\n",
        "    print(\"\\n4B: \")\n",
        "    print(4*B)\n",
        "    print(\"\\nA + B: \")\n",
        "    print(A + B)\n",
        "else:\n",
        "    print(\"\\nLas matrices A y B no tienen las mismas dimensiones, por lo que no se pueden sumar.\")\n",
        "\n",
        "if cols_A == rows_B:\n",
        "    print(\"\\nB × A: \")\n",
        "    print(np.dot(B, A))\n",
        "else:\n",
        "    print(\"\\nEl número de columnas de A no es igual al número de filas de B, por lo que no se pueden multiplicar.\")"
      ],
      "metadata": {
        "colab": {
          "base_uri": "https://localhost:8080/"
        },
        "id": "0zRW-WY3rE2F",
        "outputId": "d920c096-6178-4822-880a-d18c8e6e450e"
      },
      "execution_count": 10,
      "outputs": [
        {
          "output_type": "stream",
          "name": "stdout",
          "text": [
            "Introduce el número de filas de la matriz A: 5\n",
            "Introduce el número de columnas de la matriz A: 7\n",
            "Introduce el valor de la matriz A en la fila 1, columna 1: 4\n",
            "Introduce el valor de la matriz A en la fila 1, columna 2: 5\n",
            "Introduce el valor de la matriz A en la fila 1, columna 3: 3\n",
            "Introduce el valor de la matriz A en la fila 1, columna 4: 6\n",
            "Introduce el valor de la matriz A en la fila 1, columna 5: 4\n",
            "Introduce el valor de la matriz A en la fila 1, columna 6: 8\n",
            "Introduce el valor de la matriz A en la fila 1, columna 7: 7\n",
            "Introduce el valor de la matriz A en la fila 2, columna 1: 9\n",
            "Introduce el valor de la matriz A en la fila 2, columna 2: 2\n",
            "Introduce el valor de la matriz A en la fila 2, columna 3: 3\n",
            "Introduce el valor de la matriz A en la fila 2, columna 4: 5\n",
            "Introduce el valor de la matriz A en la fila 2, columna 5: 6\n",
            "Introduce el valor de la matriz A en la fila 2, columna 6: 4\n",
            "Introduce el valor de la matriz A en la fila 2, columna 7: 7\n",
            "Introduce el valor de la matriz A en la fila 3, columna 1: 6\n",
            "Introduce el valor de la matriz A en la fila 3, columna 2: 8\n",
            "Introduce el valor de la matriz A en la fila 3, columna 3: 9\n",
            "Introduce el valor de la matriz A en la fila 3, columna 4: 4\n",
            "Introduce el valor de la matriz A en la fila 3, columna 5: 2\n",
            "Introduce el valor de la matriz A en la fila 3, columna 6: 6\n",
            "Introduce el valor de la matriz A en la fila 3, columna 7: 4\n",
            "Introduce el valor de la matriz A en la fila 4, columna 1: 2\n",
            "Introduce el valor de la matriz A en la fila 4, columna 2: 4\n",
            "Introduce el valor de la matriz A en la fila 4, columna 3: 7\n",
            "Introduce el valor de la matriz A en la fila 4, columna 4: 6\n",
            "Introduce el valor de la matriz A en la fila 4, columna 5: 2\n",
            "Introduce el valor de la matriz A en la fila 4, columna 6: 1\n",
            "Introduce el valor de la matriz A en la fila 4, columna 7: 4\n",
            "Introduce el valor de la matriz A en la fila 5, columna 1: 6\n",
            "Introduce el valor de la matriz A en la fila 5, columna 2: 5\n",
            "Introduce el valor de la matriz A en la fila 5, columna 3: 7\n",
            "Introduce el valor de la matriz A en la fila 5, columna 4: 3\n",
            "Introduce el valor de la matriz A en la fila 5, columna 5: 5\n",
            "Introduce el valor de la matriz A en la fila 5, columna 6: 1\n",
            "Introduce el valor de la matriz A en la fila 5, columna 7: 2\n",
            "Introduce el número de filas de la matriz B: 4\n",
            "Introduce el número de columnas de la matriz B: 5\n",
            "Introduce el valor de la matriz B en la fila 1, columna 1: 4\n",
            "Introduce el valor de la matriz B en la fila 1, columna 2: 6\n",
            "Introduce el valor de la matriz B en la fila 1, columna 3: 2\n",
            "Introduce el valor de la matriz B en la fila 1, columna 4: 1\n",
            "Introduce el valor de la matriz B en la fila 1, columna 5: 2\n",
            "Introduce el valor de la matriz B en la fila 2, columna 1: 3\n",
            "Introduce el valor de la matriz B en la fila 2, columna 2: 6\n",
            "Introduce el valor de la matriz B en la fila 2, columna 3: 4\n",
            "Introduce el valor de la matriz B en la fila 2, columna 4: 7\n",
            "Introduce el valor de la matriz B en la fila 2, columna 5: 1\n",
            "Introduce el valor de la matriz B en la fila 3, columna 1: 5\n",
            "Introduce el valor de la matriz B en la fila 3, columna 2: 6\n",
            "Introduce el valor de la matriz B en la fila 3, columna 3: 7\n",
            "Introduce el valor de la matriz B en la fila 3, columna 4: 8\n",
            "Introduce el valor de la matriz B en la fila 3, columna 5: 9\n",
            "Introduce el valor de la matriz B en la fila 4, columna 1: 4\n",
            "Introduce el valor de la matriz B en la fila 4, columna 2: 7\n",
            "Introduce el valor de la matriz B en la fila 4, columna 3: 4\n",
            "Introduce el valor de la matriz B en la fila 4, columna 4: 8\n",
            "Introduce el valor de la matriz B en la fila 4, columna 5: 5\n",
            "\n",
            "Matriz A: \n",
            "[[4. 5. 3. 6. 4. 8. 7.]\n",
            " [9. 2. 3. 5. 6. 4. 7.]\n",
            " [6. 8. 9. 4. 2. 6. 4.]\n",
            " [2. 4. 7. 6. 2. 1. 4.]\n",
            " [6. 5. 7. 3. 5. 1. 2.]]\n",
            "\n",
            "Matriz B: \n",
            "[[4. 6. 2. 1. 2.]\n",
            " [3. 6. 4. 7. 1.]\n",
            " [5. 6. 7. 8. 9.]\n",
            " [4. 7. 4. 8. 5.]]\n",
            "\n",
            "Las matrices A y B no tienen las mismas dimensiones, por lo que no se pueden sumar.\n",
            "\n",
            "El número de columnas de A no es igual al número de filas de B, por lo que no se pueden multiplicar.\n"
          ]
        }
      ]
    }
  ]
}